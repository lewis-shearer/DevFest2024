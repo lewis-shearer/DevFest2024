{
 "cells": [
  {
   "cell_type": "code",
   "execution_count": 1,
   "id": "initial_id",
   "metadata": {
    "collapsed": true,
    "ExecuteTime": {
     "end_time": "2024-08-06T15:53:32.685491Z",
     "start_time": "2024-08-06T15:52:44.948885Z"
    }
   },
   "outputs": [
    {
     "name": "stderr",
     "output_type": "stream",
     "text": [
      "2024-08-06 16:53:18.441475: I tensorflow/core/platform/cpu_feature_guard.cc:182] This TensorFlow binary is optimized to use available CPU instructions in performance-critical operations.\n",
      "To enable the following instructions: AVX2 FMA, in other operations, rebuild TensorFlow with the appropriate compiler flags.\n"
     ]
    }
   ],
   "source": [
    "import pandas as pd\n",
    "import matplotlib.pyplot as plt\n",
    "import tensorflow as tf"
   ]
  },
  {
   "cell_type": "code",
   "outputs": [],
   "source": [
    "insurance = pd.read_csv('https://raw.githubusercontent.com/stedy/Machine-Learning-with-R-datasets/master/insurance.csv')"
   ],
   "metadata": {
    "collapsed": false,
    "ExecuteTime": {
     "end_time": "2024-08-06T15:53:33.066089Z",
     "start_time": "2024-08-06T15:53:32.686853Z"
    }
   },
   "id": "1f7d40ec1ca18672",
   "execution_count": 2
  },
  {
   "cell_type": "code",
   "outputs": [
    {
     "data": {
      "text/plain": "   age     sex     bmi  children smoker     region      charges\n0   19  female  27.900         0    yes  southwest  16884.92400\n1   18    male  33.770         1     no  southeast   1725.55230\n2   28    male  33.000         3     no  southeast   4449.46200\n3   33    male  22.705         0     no  northwest  21984.47061\n4   32    male  28.880         0     no  northwest   3866.85520",
      "text/html": "<div>\n<style scoped>\n    .dataframe tbody tr th:only-of-type {\n        vertical-align: middle;\n    }\n\n    .dataframe tbody tr th {\n        vertical-align: top;\n    }\n\n    .dataframe thead th {\n        text-align: right;\n    }\n</style>\n<table border=\"1\" class=\"dataframe\">\n  <thead>\n    <tr style=\"text-align: right;\">\n      <th></th>\n      <th>age</th>\n      <th>sex</th>\n      <th>bmi</th>\n      <th>children</th>\n      <th>smoker</th>\n      <th>region</th>\n      <th>charges</th>\n    </tr>\n  </thead>\n  <tbody>\n    <tr>\n      <th>0</th>\n      <td>19</td>\n      <td>female</td>\n      <td>27.900</td>\n      <td>0</td>\n      <td>yes</td>\n      <td>southwest</td>\n      <td>16884.92400</td>\n    </tr>\n    <tr>\n      <th>1</th>\n      <td>18</td>\n      <td>male</td>\n      <td>33.770</td>\n      <td>1</td>\n      <td>no</td>\n      <td>southeast</td>\n      <td>1725.55230</td>\n    </tr>\n    <tr>\n      <th>2</th>\n      <td>28</td>\n      <td>male</td>\n      <td>33.000</td>\n      <td>3</td>\n      <td>no</td>\n      <td>southeast</td>\n      <td>4449.46200</td>\n    </tr>\n    <tr>\n      <th>3</th>\n      <td>33</td>\n      <td>male</td>\n      <td>22.705</td>\n      <td>0</td>\n      <td>no</td>\n      <td>northwest</td>\n      <td>21984.47061</td>\n    </tr>\n    <tr>\n      <th>4</th>\n      <td>32</td>\n      <td>male</td>\n      <td>28.880</td>\n      <td>0</td>\n      <td>no</td>\n      <td>northwest</td>\n      <td>3866.85520</td>\n    </tr>\n  </tbody>\n</table>\n</div>"
     },
     "execution_count": 3,
     "metadata": {},
     "output_type": "execute_result"
    }
   ],
   "source": [
    "insurance.head()"
   ],
   "metadata": {
    "collapsed": false,
    "ExecuteTime": {
     "end_time": "2024-08-06T15:53:33.137663Z",
     "start_time": "2024-08-06T15:53:33.058537Z"
    }
   },
   "id": "6b495767663f973d",
   "execution_count": 3
  },
  {
   "cell_type": "code",
   "outputs": [],
   "source": [
    "from sklearn.compose import make_column_transformer\n",
    "from sklearn.preprocessing import MinMaxScaler, OneHotEncoder\n",
    "from sklearn.model_selection import train_test_split\n",
    "\n",
    "# Create column transformer (this will help us normalize/preprocess our data)\n",
    "ct = make_column_transformer(\n",
    "    (MinMaxScaler(), [\"age\", \"bmi\", \"children\"]), # get all values between 0 and 1\n",
    "    (OneHotEncoder(handle_unknown=\"ignore\"), [\"sex\", \"smoker\", \"region\"])\n",
    ")\n",
    "\n",
    "# Create X & y\n",
    "X = insurance.drop(\"charges\", axis=1)\n",
    "y = insurance[\"charges\"]\n",
    "\n",
    "# Build our train and test sets (use random state to ensure same split as before)\n",
    "X_train, X_test, y_train, y_test = train_test_split(X, y, test_size=0.2, random_state=42)\n",
    "\n",
    "# Fit column transformer on the training data only (doing so on test data would result in data leakage)\n",
    "ct.fit(X_train)\n",
    "\n",
    "# Transform training and test data with normalization (MinMaxScalar) and one hot encoding (OneHotEncoder)\n",
    "X_train_normal = ct.transform(X_train)\n",
    "X_test_normal = ct.transform(X_test)"
   ],
   "metadata": {
    "collapsed": false,
    "ExecuteTime": {
     "end_time": "2024-08-06T15:55:10.780996Z",
     "start_time": "2024-08-06T15:55:09.650631Z"
    }
   },
   "id": "bc8411c9e00b4118",
   "execution_count": 6
  },
  {
   "cell_type": "code",
   "outputs": [
    {
     "data": {
      "text/plain": "age                19\nsex            female\nbmi              27.9\nchildren            0\nsmoker            yes\nregion      southwest\nName: 0, dtype: object"
     },
     "execution_count": 7,
     "metadata": {},
     "output_type": "execute_result"
    }
   ],
   "source": [
    "X_train.loc[0]"
   ],
   "metadata": {
    "collapsed": false,
    "ExecuteTime": {
     "end_time": "2024-08-06T15:55:10.843652Z",
     "start_time": "2024-08-06T15:55:10.831483Z"
    }
   },
   "id": "23877913fe891dd4",
   "execution_count": 7
  },
  {
   "cell_type": "code",
   "outputs": [
    {
     "data": {
      "text/plain": "array([0.60869565, 0.10734463, 0.4       , 1.        , 0.        ,\n       1.        , 0.        , 0.        , 1.        , 0.        ,\n       0.        ])"
     },
     "execution_count": 8,
     "metadata": {},
     "output_type": "execute_result"
    }
   ],
   "source": [
    "X_train_normal[0]"
   ],
   "metadata": {
    "collapsed": false,
    "ExecuteTime": {
     "end_time": "2024-08-06T15:55:48.963464Z",
     "start_time": "2024-08-06T15:55:48.947017Z"
    }
   },
   "id": "5341cfb783b03f2b",
   "execution_count": 8
  },
  {
   "cell_type": "code",
   "outputs": [
    {
     "ename": "NameError",
     "evalue": "name 'Y_train_normal' is not defined",
     "output_type": "error",
     "traceback": [
      "\u001B[0;31m---------------------------------------------------------------------------\u001B[0m",
      "\u001B[0;31mNameError\u001B[0m                                 Traceback (most recent call last)",
      "Input \u001B[0;32mIn [17]\u001B[0m, in \u001B[0;36m<cell line: 0>\u001B[0;34m()\u001B[0m\n\u001B[0;32m----> 1\u001B[0m Y_train_normal\u001B[38;5;241m.\u001B[39mshape, X_train\u001B[38;5;241m.\u001B[39mshape\n",
      "\u001B[0;31mNameError\u001B[0m: name 'Y_train_normal' is not defined"
     ]
    }
   ],
   "source": [
    "X_train_normal.shape, X_train.shape"
   ],
   "metadata": {
    "collapsed": false,
    "ExecuteTime": {
     "end_time": "2024-08-06T16:02:15.827112Z",
     "start_time": "2024-08-06T16:02:15.430731Z"
    }
   },
   "id": "65a6b5f461e14654",
   "execution_count": 17
  },
  {
   "cell_type": "code",
   "outputs": [
    {
     "name": "stdout",
     "output_type": "stream",
     "text": [
      "Epoch 1/200\n",
      "34/34 [==============================] - 1s 2ms/step - loss: 13344.0879 - mae: 13344.0879\n",
      "Epoch 2/200\n",
      "34/34 [==============================] - 0s 2ms/step - loss: 13335.6182 - mae: 13335.6182\n",
      "Epoch 3/200\n",
      "34/34 [==============================] - 0s 2ms/step - loss: 13314.1025 - mae: 13314.1025\n",
      "Epoch 4/200\n",
      "34/34 [==============================] - 0s 2ms/step - loss: 13268.5547 - mae: 13268.5547\n",
      "Epoch 5/200\n",
      "34/34 [==============================] - 0s 3ms/step - loss: 13187.5137 - mae: 13187.5137\n",
      "Epoch 6/200\n",
      "34/34 [==============================] - 0s 2ms/step - loss: 13059.9844 - mae: 13059.9844\n",
      "Epoch 7/200\n",
      "34/34 [==============================] - 0s 2ms/step - loss: 12875.5381 - mae: 12875.5381\n",
      "Epoch 8/200\n",
      "34/34 [==============================] - 0s 2ms/step - loss: 12623.9053 - mae: 12623.9053\n",
      "Epoch 9/200\n",
      "34/34 [==============================] - 0s 2ms/step - loss: 12294.9883 - mae: 12294.9883\n",
      "Epoch 10/200\n",
      "34/34 [==============================] - 0s 2ms/step - loss: 11885.9248 - mae: 11885.9248\n",
      "Epoch 11/200\n",
      "34/34 [==============================] - 0s 2ms/step - loss: 11408.6709 - mae: 11408.6709\n",
      "Epoch 12/200\n",
      "34/34 [==============================] - 0s 2ms/step - loss: 10901.4512 - mae: 10901.4512\n",
      "Epoch 13/200\n",
      "34/34 [==============================] - 0s 2ms/step - loss: 10399.4746 - mae: 10399.4746\n",
      "Epoch 14/200\n",
      "34/34 [==============================] - 0s 4ms/step - loss: 9905.6416 - mae: 9905.6416\n",
      "Epoch 15/200\n",
      "34/34 [==============================] - 0s 2ms/step - loss: 9439.5957 - mae: 9439.5957\n",
      "Epoch 16/200\n",
      "34/34 [==============================] - 0s 2ms/step - loss: 9027.9443 - mae: 9027.9443\n",
      "Epoch 17/200\n",
      "34/34 [==============================] - 0s 2ms/step - loss: 8690.9668 - mae: 8690.9668\n",
      "Epoch 18/200\n",
      "34/34 [==============================] - 0s 2ms/step - loss: 8416.0225 - mae: 8416.0225\n",
      "Epoch 19/200\n",
      "34/34 [==============================] - 0s 2ms/step - loss: 8211.9600 - mae: 8211.9600\n",
      "Epoch 20/200\n",
      "34/34 [==============================] - 0s 2ms/step - loss: 8071.9111 - mae: 8071.9111\n",
      "Epoch 21/200\n",
      "34/34 [==============================] - 0s 2ms/step - loss: 7965.6812 - mae: 7965.6812\n",
      "Epoch 22/200\n",
      "34/34 [==============================] - 0s 2ms/step - loss: 7891.8467 - mae: 7891.8467\n",
      "Epoch 23/200\n",
      "34/34 [==============================] - 0s 2ms/step - loss: 7833.9385 - mae: 7833.9385\n",
      "Epoch 24/200\n",
      "34/34 [==============================] - 0s 2ms/step - loss: 7781.8838 - mae: 7781.8838\n",
      "Epoch 25/200\n",
      "34/34 [==============================] - 0s 2ms/step - loss: 7743.0308 - mae: 7743.0308\n",
      "Epoch 26/200\n",
      "34/34 [==============================] - 0s 2ms/step - loss: 7691.1934 - mae: 7691.1934\n",
      "Epoch 27/200\n",
      "34/34 [==============================] - 0s 2ms/step - loss: 7648.7227 - mae: 7648.7227\n",
      "Epoch 28/200\n",
      "34/34 [==============================] - 0s 2ms/step - loss: 7605.3975 - mae: 7605.3975\n",
      "Epoch 29/200\n",
      "34/34 [==============================] - 0s 2ms/step - loss: 7561.6626 - mae: 7561.6626\n",
      "Epoch 30/200\n",
      "34/34 [==============================] - 0s 2ms/step - loss: 7517.3569 - mae: 7517.3569\n",
      "Epoch 31/200\n",
      "34/34 [==============================] - 0s 2ms/step - loss: 7472.6392 - mae: 7472.6392\n",
      "Epoch 32/200\n",
      "34/34 [==============================] - 0s 2ms/step - loss: 7427.5737 - mae: 7427.5737\n",
      "Epoch 33/200\n",
      "34/34 [==============================] - 0s 2ms/step - loss: 7382.2681 - mae: 7382.2681\n",
      "Epoch 34/200\n",
      "34/34 [==============================] - 0s 2ms/step - loss: 7332.8696 - mae: 7332.8696\n",
      "Epoch 35/200\n",
      "34/34 [==============================] - 0s 2ms/step - loss: 7284.9873 - mae: 7284.9873\n",
      "Epoch 36/200\n",
      "34/34 [==============================] - 0s 2ms/step - loss: 7233.6646 - mae: 7233.6646\n",
      "Epoch 37/200\n",
      "34/34 [==============================] - 0s 2ms/step - loss: 7182.0381 - mae: 7182.0381\n",
      "Epoch 38/200\n",
      "34/34 [==============================] - 0s 2ms/step - loss: 7129.6528 - mae: 7129.6528\n",
      "Epoch 39/200\n",
      "34/34 [==============================] - 0s 2ms/step - loss: 7073.3667 - mae: 7073.3667\n",
      "Epoch 40/200\n",
      "34/34 [==============================] - 0s 2ms/step - loss: 7016.4336 - mae: 7016.4336\n",
      "Epoch 41/200\n",
      "34/34 [==============================] - 0s 2ms/step - loss: 6958.3647 - mae: 6958.3647\n",
      "Epoch 42/200\n",
      "34/34 [==============================] - 0s 2ms/step - loss: 6897.5879 - mae: 6897.5879\n",
      "Epoch 43/200\n",
      "34/34 [==============================] - 0s 2ms/step - loss: 6833.0117 - mae: 6833.0117\n",
      "Epoch 44/200\n",
      "34/34 [==============================] - 0s 2ms/step - loss: 6764.6011 - mae: 6764.6011\n",
      "Epoch 45/200\n",
      "34/34 [==============================] - 0s 2ms/step - loss: 6695.2793 - mae: 6695.2793\n",
      "Epoch 46/200\n",
      "34/34 [==============================] - 0s 2ms/step - loss: 6623.8960 - mae: 6623.8960\n",
      "Epoch 47/200\n",
      "34/34 [==============================] - 0s 4ms/step - loss: 6550.0020 - mae: 6550.0020\n",
      "Epoch 48/200\n",
      "34/34 [==============================] - 0s 2ms/step - loss: 6468.6899 - mae: 6468.6899\n",
      "Epoch 49/200\n",
      "34/34 [==============================] - 0s 2ms/step - loss: 6387.0967 - mae: 6387.0967\n",
      "Epoch 50/200\n",
      "34/34 [==============================] - 0s 2ms/step - loss: 6298.3550 - mae: 6298.3550\n",
      "Epoch 51/200\n",
      "34/34 [==============================] - 0s 2ms/step - loss: 6210.3926 - mae: 6210.3926\n",
      "Epoch 52/200\n",
      "34/34 [==============================] - 0s 2ms/step - loss: 6114.0049 - mae: 6114.0049\n",
      "Epoch 53/200\n",
      "34/34 [==============================] - 0s 2ms/step - loss: 6014.4458 - mae: 6014.4458\n",
      "Epoch 54/200\n",
      "34/34 [==============================] - 0s 2ms/step - loss: 5911.7881 - mae: 5911.7881\n",
      "Epoch 55/200\n",
      "34/34 [==============================] - 0s 2ms/step - loss: 5800.5806 - mae: 5800.5806\n",
      "Epoch 56/200\n",
      "34/34 [==============================] - 0s 2ms/step - loss: 5688.1943 - mae: 5688.1943\n",
      "Epoch 57/200\n",
      "34/34 [==============================] - 0s 2ms/step - loss: 5569.8418 - mae: 5569.8418\n",
      "Epoch 58/200\n",
      "34/34 [==============================] - 0s 2ms/step - loss: 5451.8721 - mae: 5451.8721\n",
      "Epoch 59/200\n",
      "34/34 [==============================] - 0s 2ms/step - loss: 5328.8091 - mae: 5328.8091\n",
      "Epoch 60/200\n",
      "34/34 [==============================] - 0s 2ms/step - loss: 5202.9844 - mae: 5202.9844\n",
      "Epoch 61/200\n",
      "34/34 [==============================] - 0s 7ms/step - loss: 5075.3403 - mae: 5075.3403\n",
      "Epoch 62/200\n",
      "34/34 [==============================] - 0s 2ms/step - loss: 4941.2920 - mae: 4941.2920\n",
      "Epoch 63/200\n",
      "34/34 [==============================] - 0s 4ms/step - loss: 4811.8193 - mae: 4811.8193\n",
      "Epoch 64/200\n",
      "34/34 [==============================] - 0s 3ms/step - loss: 4679.6880 - mae: 4679.6880\n",
      "Epoch 65/200\n",
      "34/34 [==============================] - 0s 2ms/step - loss: 4555.6050 - mae: 4555.6050\n",
      "Epoch 66/200\n",
      "34/34 [==============================] - 0s 2ms/step - loss: 4438.6963 - mae: 4438.6963\n",
      "Epoch 67/200\n",
      "34/34 [==============================] - 0s 2ms/step - loss: 4333.6875 - mae: 4333.6875\n",
      "Epoch 68/200\n",
      "34/34 [==============================] - 0s 2ms/step - loss: 4229.2979 - mae: 4229.2979\n",
      "Epoch 69/200\n",
      "34/34 [==============================] - 0s 2ms/step - loss: 4133.1431 - mae: 4133.1431\n",
      "Epoch 70/200\n",
      "34/34 [==============================] - 0s 2ms/step - loss: 4044.8186 - mae: 4044.8186\n",
      "Epoch 71/200\n",
      "34/34 [==============================] - 0s 2ms/step - loss: 3965.4341 - mae: 3965.4341\n",
      "Epoch 72/200\n",
      "34/34 [==============================] - 0s 2ms/step - loss: 3896.2007 - mae: 3896.2007\n",
      "Epoch 73/200\n",
      "34/34 [==============================] - 0s 2ms/step - loss: 3840.2905 - mae: 3840.2905\n",
      "Epoch 74/200\n",
      "34/34 [==============================] - 0s 2ms/step - loss: 3791.7170 - mae: 3791.7170\n",
      "Epoch 75/200\n",
      "34/34 [==============================] - 0s 2ms/step - loss: 3757.6201 - mae: 3757.6201\n",
      "Epoch 76/200\n",
      "34/34 [==============================] - 0s 3ms/step - loss: 3732.2197 - mae: 3732.2197\n",
      "Epoch 77/200\n",
      "34/34 [==============================] - 0s 2ms/step - loss: 3710.7617 - mae: 3710.7617\n",
      "Epoch 78/200\n",
      "34/34 [==============================] - 0s 5ms/step - loss: 3696.9399 - mae: 3696.9399\n",
      "Epoch 79/200\n",
      "34/34 [==============================] - 0s 3ms/step - loss: 3687.3552 - mae: 3687.3552\n",
      "Epoch 80/200\n",
      "34/34 [==============================] - 0s 2ms/step - loss: 3678.6982 - mae: 3678.6982\n",
      "Epoch 81/200\n",
      "34/34 [==============================] - 0s 2ms/step - loss: 3673.3296 - mae: 3673.3296\n",
      "Epoch 82/200\n",
      "34/34 [==============================] - 0s 3ms/step - loss: 3670.6226 - mae: 3670.6226\n",
      "Epoch 83/200\n",
      "34/34 [==============================] - 0s 2ms/step - loss: 3664.8374 - mae: 3664.8374\n",
      "Epoch 84/200\n",
      "34/34 [==============================] - 0s 2ms/step - loss: 3662.3323 - mae: 3662.3323\n",
      "Epoch 85/200\n",
      "34/34 [==============================] - 0s 2ms/step - loss: 3660.0593 - mae: 3660.0593\n",
      "Epoch 86/200\n",
      "34/34 [==============================] - 0s 2ms/step - loss: 3658.5583 - mae: 3658.5583\n",
      "Epoch 87/200\n",
      "34/34 [==============================] - 0s 2ms/step - loss: 3655.6770 - mae: 3655.6770\n",
      "Epoch 88/200\n",
      "34/34 [==============================] - 0s 2ms/step - loss: 3653.3157 - mae: 3653.3157\n",
      "Epoch 89/200\n",
      "34/34 [==============================] - 0s 2ms/step - loss: 3652.1343 - mae: 3652.1343\n",
      "Epoch 90/200\n",
      "34/34 [==============================] - 0s 2ms/step - loss: 3650.1765 - mae: 3650.1765\n",
      "Epoch 91/200\n",
      "34/34 [==============================] - 0s 2ms/step - loss: 3647.1638 - mae: 3647.1638\n",
      "Epoch 92/200\n",
      "34/34 [==============================] - 0s 2ms/step - loss: 3646.5298 - mae: 3646.5298\n",
      "Epoch 93/200\n",
      "34/34 [==============================] - 0s 2ms/step - loss: 3644.2559 - mae: 3644.2559\n",
      "Epoch 94/200\n",
      "34/34 [==============================] - 0s 2ms/step - loss: 3642.4446 - mae: 3642.4446\n",
      "Epoch 95/200\n",
      "34/34 [==============================] - 0s 2ms/step - loss: 3643.3694 - mae: 3643.3694\n",
      "Epoch 96/200\n",
      "34/34 [==============================] - 0s 2ms/step - loss: 3640.4587 - mae: 3640.4587\n",
      "Epoch 97/200\n",
      "34/34 [==============================] - 0s 2ms/step - loss: 3637.8943 - mae: 3637.8943\n",
      "Epoch 98/200\n",
      "34/34 [==============================] - 0s 2ms/step - loss: 3635.7832 - mae: 3635.7832\n",
      "Epoch 99/200\n",
      "34/34 [==============================] - 0s 2ms/step - loss: 3635.5024 - mae: 3635.5024\n",
      "Epoch 100/200\n",
      "34/34 [==============================] - 0s 2ms/step - loss: 3633.8008 - mae: 3633.8008\n",
      "Epoch 101/200\n",
      "34/34 [==============================] - 0s 2ms/step - loss: 3630.8303 - mae: 3630.8303\n",
      "Epoch 102/200\n",
      "34/34 [==============================] - 0s 2ms/step - loss: 3628.2795 - mae: 3628.2795\n",
      "Epoch 103/200\n",
      "34/34 [==============================] - 0s 2ms/step - loss: 3627.1963 - mae: 3627.1963\n",
      "Epoch 104/200\n",
      "34/34 [==============================] - 0s 2ms/step - loss: 3624.7375 - mae: 3624.7375\n",
      "Epoch 105/200\n",
      "34/34 [==============================] - 0s 2ms/step - loss: 3623.0859 - mae: 3623.0859\n",
      "Epoch 106/200\n",
      "34/34 [==============================] - 0s 2ms/step - loss: 3621.7925 - mae: 3621.7925\n",
      "Epoch 107/200\n",
      "34/34 [==============================] - 0s 3ms/step - loss: 3621.2263 - mae: 3621.2263\n",
      "Epoch 108/200\n",
      "34/34 [==============================] - 0s 2ms/step - loss: 3618.5225 - mae: 3618.5225\n",
      "Epoch 109/200\n",
      "34/34 [==============================] - 0s 2ms/step - loss: 3618.8567 - mae: 3618.8567\n",
      "Epoch 110/200\n",
      "34/34 [==============================] - 0s 2ms/step - loss: 3615.5278 - mae: 3615.5278\n",
      "Epoch 111/200\n",
      "34/34 [==============================] - 0s 2ms/step - loss: 3612.9863 - mae: 3612.9863\n",
      "Epoch 112/200\n",
      "34/34 [==============================] - 0s 3ms/step - loss: 3610.8840 - mae: 3610.8840\n",
      "Epoch 113/200\n",
      "34/34 [==============================] - 0s 2ms/step - loss: 3609.2317 - mae: 3609.2317\n",
      "Epoch 114/200\n",
      "34/34 [==============================] - 0s 5ms/step - loss: 3608.2598 - mae: 3608.2598\n",
      "Epoch 115/200\n",
      "34/34 [==============================] - 0s 2ms/step - loss: 3606.5964 - mae: 3606.5964\n",
      "Epoch 116/200\n",
      "34/34 [==============================] - 0s 2ms/step - loss: 3605.0818 - mae: 3605.0818\n",
      "Epoch 117/200\n",
      "34/34 [==============================] - 0s 2ms/step - loss: 3602.0630 - mae: 3602.0630\n",
      "Epoch 118/200\n",
      "34/34 [==============================] - 0s 2ms/step - loss: 3598.3350 - mae: 3598.3350\n",
      "Epoch 119/200\n",
      "34/34 [==============================] - 0s 2ms/step - loss: 3599.9631 - mae: 3599.9631\n",
      "Epoch 120/200\n",
      "34/34 [==============================] - 0s 2ms/step - loss: 3597.5735 - mae: 3597.5735\n",
      "Epoch 121/200\n",
      "34/34 [==============================] - 0s 2ms/step - loss: 3592.3992 - mae: 3592.3992\n",
      "Epoch 122/200\n",
      "34/34 [==============================] - 0s 2ms/step - loss: 3591.8308 - mae: 3591.8308\n",
      "Epoch 123/200\n",
      "34/34 [==============================] - 0s 2ms/step - loss: 3589.7551 - mae: 3589.7551\n",
      "Epoch 124/200\n",
      "34/34 [==============================] - 0s 2ms/step - loss: 3587.4551 - mae: 3587.4551\n",
      "Epoch 125/200\n",
      "34/34 [==============================] - 0s 3ms/step - loss: 3585.4197 - mae: 3585.4197\n",
      "Epoch 126/200\n",
      "34/34 [==============================] - 0s 2ms/step - loss: 3584.6001 - mae: 3584.6001\n",
      "Epoch 127/200\n",
      "34/34 [==============================] - 0s 2ms/step - loss: 3584.7859 - mae: 3584.7859\n",
      "Epoch 128/200\n",
      "34/34 [==============================] - 0s 5ms/step - loss: 3581.0525 - mae: 3581.0525\n",
      "Epoch 129/200\n",
      "34/34 [==============================] - 0s 2ms/step - loss: 3579.6445 - mae: 3579.6445\n",
      "Epoch 130/200\n",
      "34/34 [==============================] - 0s 2ms/step - loss: 3576.0391 - mae: 3576.0391\n",
      "Epoch 131/200\n",
      "34/34 [==============================] - 0s 2ms/step - loss: 3574.6921 - mae: 3574.6921\n",
      "Epoch 132/200\n",
      "34/34 [==============================] - 0s 4ms/step - loss: 3571.6802 - mae: 3571.6802\n",
      "Epoch 133/200\n",
      "34/34 [==============================] - 0s 2ms/step - loss: 3570.0857 - mae: 3570.0857\n",
      "Epoch 134/200\n",
      "34/34 [==============================] - 0s 2ms/step - loss: 3568.0298 - mae: 3568.0298\n",
      "Epoch 135/200\n",
      "34/34 [==============================] - 0s 2ms/step - loss: 3565.9983 - mae: 3565.9983\n",
      "Epoch 136/200\n",
      "34/34 [==============================] - 0s 2ms/step - loss: 3564.5515 - mae: 3564.5515\n",
      "Epoch 137/200\n",
      "34/34 [==============================] - 0s 2ms/step - loss: 3563.0735 - mae: 3563.0735\n",
      "Epoch 138/200\n",
      "34/34 [==============================] - 0s 2ms/step - loss: 3560.8271 - mae: 3560.8271\n",
      "Epoch 139/200\n",
      "34/34 [==============================] - 0s 2ms/step - loss: 3560.1641 - mae: 3560.1641\n",
      "Epoch 140/200\n",
      "34/34 [==============================] - 0s 4ms/step - loss: 3558.1438 - mae: 3558.1438\n",
      "Epoch 141/200\n",
      "34/34 [==============================] - 0s 2ms/step - loss: 3557.9460 - mae: 3557.9460\n",
      "Epoch 142/200\n",
      "34/34 [==============================] - 0s 2ms/step - loss: 3555.1536 - mae: 3555.1536\n",
      "Epoch 143/200\n",
      "34/34 [==============================] - 0s 2ms/step - loss: 3555.7839 - mae: 3555.7839\n",
      "Epoch 144/200\n",
      "34/34 [==============================] - 0s 2ms/step - loss: 3552.6133 - mae: 3552.6133\n",
      "Epoch 145/200\n",
      "34/34 [==============================] - 0s 2ms/step - loss: 3550.7803 - mae: 3550.7803\n",
      "Epoch 146/200\n",
      "34/34 [==============================] - 0s 4ms/step - loss: 3550.7664 - mae: 3550.7664\n",
      "Epoch 147/200\n",
      "34/34 [==============================] - 0s 2ms/step - loss: 3548.3477 - mae: 3548.3477\n",
      "Epoch 148/200\n",
      "34/34 [==============================] - 0s 3ms/step - loss: 3547.0608 - mae: 3547.0608\n",
      "Epoch 149/200\n",
      "34/34 [==============================] - 0s 2ms/step - loss: 3544.2981 - mae: 3544.2981\n",
      "Epoch 150/200\n",
      "34/34 [==============================] - 0s 2ms/step - loss: 3544.0381 - mae: 3544.0381\n",
      "Epoch 151/200\n",
      "34/34 [==============================] - 0s 4ms/step - loss: 3542.2170 - mae: 3542.2170\n",
      "Epoch 152/200\n",
      "34/34 [==============================] - 0s 4ms/step - loss: 3540.6062 - mae: 3540.6062\n",
      "Epoch 153/200\n",
      "34/34 [==============================] - 0s 2ms/step - loss: 3539.0522 - mae: 3539.0522\n",
      "Epoch 154/200\n",
      "34/34 [==============================] - 0s 2ms/step - loss: 3540.3999 - mae: 3540.3999\n",
      "Epoch 155/200\n",
      "34/34 [==============================] - 0s 2ms/step - loss: 3538.2458 - mae: 3538.2458\n",
      "Epoch 156/200\n",
      "34/34 [==============================] - 0s 2ms/step - loss: 3535.9885 - mae: 3535.9885\n",
      "Epoch 157/200\n",
      "34/34 [==============================] - 0s 2ms/step - loss: 3534.6677 - mae: 3534.6677\n",
      "Epoch 158/200\n",
      "34/34 [==============================] - 0s 2ms/step - loss: 3531.5337 - mae: 3531.5337\n",
      "Epoch 159/200\n",
      "34/34 [==============================] - 0s 2ms/step - loss: 3530.0930 - mae: 3530.0930\n",
      "Epoch 160/200\n",
      "34/34 [==============================] - 0s 2ms/step - loss: 3529.9456 - mae: 3529.9456\n",
      "Epoch 161/200\n",
      "34/34 [==============================] - 0s 2ms/step - loss: 3526.7544 - mae: 3526.7544\n",
      "Epoch 162/200\n",
      "34/34 [==============================] - 0s 2ms/step - loss: 3526.0132 - mae: 3526.0132\n",
      "Epoch 163/200\n",
      "34/34 [==============================] - 0s 2ms/step - loss: 3524.6221 - mae: 3524.6221\n",
      "Epoch 164/200\n",
      "34/34 [==============================] - 0s 2ms/step - loss: 3523.9963 - mae: 3523.9963\n",
      "Epoch 165/200\n",
      "34/34 [==============================] - 0s 2ms/step - loss: 3521.9604 - mae: 3521.9604\n",
      "Epoch 166/200\n",
      "34/34 [==============================] - 0s 2ms/step - loss: 3520.2695 - mae: 3520.2695\n",
      "Epoch 167/200\n",
      "34/34 [==============================] - 0s 2ms/step - loss: 3519.3882 - mae: 3519.3882\n",
      "Epoch 168/200\n",
      "34/34 [==============================] - 0s 2ms/step - loss: 3518.5449 - mae: 3518.5449\n",
      "Epoch 169/200\n",
      "34/34 [==============================] - 0s 3ms/step - loss: 3516.8647 - mae: 3516.8647\n",
      "Epoch 170/200\n",
      "34/34 [==============================] - 0s 2ms/step - loss: 3515.5842 - mae: 3515.5842\n",
      "Epoch 171/200\n",
      "34/34 [==============================] - 0s 1ms/step - loss: 3514.8623 - mae: 3514.8623\n",
      "Epoch 172/200\n",
      "34/34 [==============================] - 0s 2ms/step - loss: 3513.3643 - mae: 3513.3643\n",
      "Epoch 173/200\n",
      "34/34 [==============================] - 0s 2ms/step - loss: 3512.4275 - mae: 3512.4275\n",
      "Epoch 174/200\n",
      "34/34 [==============================] - 0s 2ms/step - loss: 3510.9756 - mae: 3510.9756\n",
      "Epoch 175/200\n",
      "34/34 [==============================] - 0s 2ms/step - loss: 3509.6599 - mae: 3509.6599\n",
      "Epoch 176/200\n",
      "34/34 [==============================] - 0s 2ms/step - loss: 3509.6294 - mae: 3509.6294\n",
      "Epoch 177/200\n",
      "34/34 [==============================] - 0s 2ms/step - loss: 3509.7588 - mae: 3509.7588\n",
      "Epoch 178/200\n",
      "34/34 [==============================] - 0s 2ms/step - loss: 3507.2568 - mae: 3507.2568\n",
      "Epoch 179/200\n",
      "34/34 [==============================] - 0s 2ms/step - loss: 3509.4441 - mae: 3509.4441\n",
      "Epoch 180/200\n",
      "34/34 [==============================] - 0s 2ms/step - loss: 3504.4043 - mae: 3504.4043\n",
      "Epoch 181/200\n",
      "34/34 [==============================] - 0s 2ms/step - loss: 3502.2354 - mae: 3502.2354\n",
      "Epoch 182/200\n",
      "34/34 [==============================] - 0s 2ms/step - loss: 3501.6345 - mae: 3501.6345\n",
      "Epoch 183/200\n",
      "34/34 [==============================] - 0s 2ms/step - loss: 3499.8342 - mae: 3499.8342\n",
      "Epoch 184/200\n",
      "34/34 [==============================] - 0s 2ms/step - loss: 3499.0298 - mae: 3499.0298\n",
      "Epoch 185/200\n",
      "34/34 [==============================] - 0s 2ms/step - loss: 3498.6162 - mae: 3498.6162\n",
      "Epoch 186/200\n",
      "34/34 [==============================] - 0s 2ms/step - loss: 3496.3105 - mae: 3496.3105\n",
      "Epoch 187/200\n",
      "34/34 [==============================] - 0s 2ms/step - loss: 3496.3105 - mae: 3496.3105\n",
      "Epoch 188/200\n",
      "34/34 [==============================] - 0s 2ms/step - loss: 3493.5908 - mae: 3493.5908\n",
      "Epoch 189/200\n",
      "34/34 [==============================] - 0s 2ms/step - loss: 3492.2544 - mae: 3492.2544\n",
      "Epoch 190/200\n",
      "34/34 [==============================] - 0s 2ms/step - loss: 3493.6621 - mae: 3493.6621\n",
      "Epoch 191/200\n",
      "34/34 [==============================] - 0s 3ms/step - loss: 3499.1865 - mae: 3499.1865\n",
      "Epoch 192/200\n",
      "34/34 [==============================] - 0s 4ms/step - loss: 3488.8333 - mae: 3488.8333\n",
      "Epoch 193/200\n",
      "34/34 [==============================] - 0s 3ms/step - loss: 3488.5938 - mae: 3488.5938\n",
      "Epoch 194/200\n",
      "34/34 [==============================] - 0s 2ms/step - loss: 3485.9087 - mae: 3485.9087\n",
      "Epoch 195/200\n",
      "34/34 [==============================] - 0s 2ms/step - loss: 3485.6826 - mae: 3485.6826\n",
      "Epoch 196/200\n",
      "34/34 [==============================] - 0s 2ms/step - loss: 3486.5940 - mae: 3486.5940\n",
      "Epoch 197/200\n",
      "34/34 [==============================] - 0s 5ms/step - loss: 3482.7485 - mae: 3482.7485\n",
      "Epoch 198/200\n",
      "34/34 [==============================] - 0s 3ms/step - loss: 3481.6084 - mae: 3481.6084\n",
      "Epoch 199/200\n",
      "34/34 [==============================] - 0s 2ms/step - loss: 3480.3650 - mae: 3480.3650\n",
      "Epoch 200/200\n",
      "34/34 [==============================] - 0s 2ms/step - loss: 3481.0273 - mae: 3481.0273\n"
     ]
    }
   ],
   "source": [
    "# Set random seed\n",
    "tf.random.set_seed(42)\n",
    "\n",
    "# Build the model (3 layers, 100, 10, 1 units)\n",
    "insurance_model_1 = tf.keras.Sequential([\n",
    "    tf.keras.layers.Dense(100),\n",
    "    tf.keras.layers.Dense(10),\n",
    "    tf.keras.layers.Dense(1)\n",
    "])\n",
    "\n",
    "# Compile the model\n",
    "insurance_model_1.compile(loss=tf.keras.losses.mae,\n",
    "                          optimizer=tf.keras.optimizers.Adam(),\n",
    "                          metrics=['mae'])\n",
    "\n",
    "# Fit the model for 200 epochs (same as insurance_model_2)\n",
    "history = insurance_model_1.fit(X_train_normal, y_train, epochs=200, verbose=1)"
   ],
   "metadata": {
    "collapsed": false,
    "ExecuteTime": {
     "end_time": "2024-08-06T15:57:24.343893Z",
     "start_time": "2024-08-06T15:57:07.471576Z"
    }
   },
   "id": "37b5975ef0ddfbf7",
   "execution_count": 11
  },
  {
   "cell_type": "code",
   "outputs": [
    {
     "data": {
      "text/plain": "<Figure size 640x480 with 1 Axes>",
      "image/png": "[encoded data removed]"
     },
     "metadata": {},
     "output_type": "display_data"
    }
   ],
   "source": [
    "pd.DataFrame(history.history).plot()\n",
    "plt.ylabel(\"loss\")\n",
    "plt.xlabel(\"epochs\");"
   ],
   "metadata": {
    "collapsed": false,
    "ExecuteTime": {
     "end_time": "2024-08-06T15:57:24.838080Z",
     "start_time": "2024-08-06T15:57:24.345391Z"
    }
   },
   "id": "e2f1bfeaa7fd5702",
   "execution_count": 12
  },
  {
   "cell_type": "code",
   "outputs": [
    {
     "name": "stdout",
     "output_type": "stream",
     "text": [
      "9/9 [==============================] - 0s 2ms/step\n"
     ]
    }
   ],
   "source": [
    "y_preds = insurance_model_1.predict(X_test_normal)"
   ],
   "metadata": {
    "collapsed": false,
    "ExecuteTime": {
     "end_time": "2024-08-06T15:58:48.508946Z",
     "start_time": "2024-08-06T15:58:48.347200Z"
    }
   },
   "id": "170671f48563f819",
   "execution_count": 14
  },
  {
   "cell_type": "code",
   "outputs": [],
   "source": [
    "def plot_predictions(train_data=X_train,\n",
    "                     train_labels=y_train,\n",
    "                     test_data=X_test,\n",
    "                     test_labels=y_test,\n",
    "                     predictions=y_preds):\n",
    "    \"\"\"\n",
    "    Plots training data, test data and compares predictions.\n",
    "    \"\"\"\n",
    "    plt.figure(figsize=(10, 7))\n",
    "    # Plot training data in blue\n",
    "    plt.scatter(train_data, train_labels, c=\"b\", label=\"Training data\")\n",
    "    # Plot test data in green\n",
    "    plt.scatter(test_data, test_labels, c=\"g\", label=\"Testing data\")\n",
    "    # Plot the predictions in red (predictions were made on the test data)\n",
    "    plt.scatter(test_data, predictions, c=\"r\", label=\"Predictions\")\n",
    "    # Show the legend\n",
    "    plt.legend();"
   ],
   "metadata": {
    "collapsed": false,
    "ExecuteTime": {
     "end_time": "2024-08-06T15:58:51.804294Z",
     "start_time": "2024-08-06T15:58:51.796437Z"
    }
   },
   "id": "76a6d77203bae6e7",
   "execution_count": 15
  },
  {
   "cell_type": "code",
   "outputs": [
    {
     "ename": "ValueError",
     "evalue": "x and y must be the same size",
     "output_type": "error",
     "traceback": [
      "\u001B[0;31m---------------------------------------------------------------------------\u001B[0m",
      "\u001B[0;31mValueError\u001B[0m                                Traceback (most recent call last)",
      "Input \u001B[0;32mIn [18]\u001B[0m, in \u001B[0;36m<cell line: 0>\u001B[0;34m()\u001B[0m\n\u001B[0;32m----> 1\u001B[0m plot_predictions(train_data\u001B[38;5;241m=\u001B[39mX_train, train_labels\u001B[38;5;241m=\u001B[39my_train, test_data\u001B[38;5;241m=\u001B[39mX_test, test_labels\u001B[38;5;241m=\u001B[39my_test, predictions\u001B[38;5;241m=\u001B[39my_preds)\n",
      "Input \u001B[0;32mIn [15]\u001B[0m, in \u001B[0;36mplot_predictions\u001B[0;34m(train_data, train_labels, test_data, test_labels, predictions)\u001B[0m\n\u001B[1;32m      9\u001B[0m plt\u001B[38;5;241m.\u001B[39mfigure(figsize\u001B[38;5;241m=\u001B[39m(\u001B[38;5;241m10\u001B[39m, \u001B[38;5;241m7\u001B[39m))\n\u001B[1;32m     10\u001B[0m \u001B[38;5;66;03m# Plot training data in blue\u001B[39;00m\n\u001B[0;32m---> 11\u001B[0m plt\u001B[38;5;241m.\u001B[39mscatter(train_data, train_labels, c\u001B[38;5;241m=\u001B[39m\u001B[38;5;124m\"\u001B[39m\u001B[38;5;124mb\u001B[39m\u001B[38;5;124m\"\u001B[39m, label\u001B[38;5;241m=\u001B[39m\u001B[38;5;124m\"\u001B[39m\u001B[38;5;124mTraining data\u001B[39m\u001B[38;5;124m\"\u001B[39m)\n\u001B[1;32m     12\u001B[0m \u001B[38;5;66;03m# Plot test data in green\u001B[39;00m\n\u001B[1;32m     13\u001B[0m plt\u001B[38;5;241m.\u001B[39mscatter(test_data, test_labels, c\u001B[38;5;241m=\u001B[39m\u001B[38;5;124m\"\u001B[39m\u001B[38;5;124mg\u001B[39m\u001B[38;5;124m\"\u001B[39m, label\u001B[38;5;241m=\u001B[39m\u001B[38;5;124m\"\u001B[39m\u001B[38;5;124mTesting data\u001B[39m\u001B[38;5;124m\"\u001B[39m)\n",
      "File \u001B[0;32m/Users/coding/anaconda3/lib/python3.11/site-packages/matplotlib/pyplot.py:3699\u001B[0m, in \u001B[0;36mscatter\u001B[0;34m(x, y, s, c, marker, cmap, norm, vmin, vmax, alpha, linewidths, edgecolors, plotnonfinite, data, **kwargs)\u001B[0m\n\u001B[1;32m   3680\u001B[0m \u001B[38;5;129m@_copy_docstring_and_deprecators\u001B[39m(Axes\u001B[38;5;241m.\u001B[39mscatter)\n\u001B[1;32m   3681\u001B[0m \u001B[38;5;28;01mdef\u001B[39;00m \u001B[38;5;21mscatter\u001B[39m(\n\u001B[1;32m   3682\u001B[0m     x: \u001B[38;5;28mfloat\u001B[39m \u001B[38;5;241m|\u001B[39m ArrayLike,\n\u001B[0;32m   (...)\u001B[0m\n\u001B[1;32m   3697\u001B[0m     \u001B[38;5;241m*\u001B[39m\u001B[38;5;241m*\u001B[39mkwargs,\n\u001B[1;32m   3698\u001B[0m ) \u001B[38;5;241m-\u001B[39m\u001B[38;5;241m>\u001B[39m PathCollection:\n\u001B[0;32m-> 3699\u001B[0m     __ret \u001B[38;5;241m=\u001B[39m gca()\u001B[38;5;241m.\u001B[39mscatter(\n\u001B[1;32m   3700\u001B[0m         x,\n\u001B[1;32m   3701\u001B[0m         y,\n\u001B[1;32m   3702\u001B[0m         s\u001B[38;5;241m=\u001B[39ms,\n\u001B[1;32m   3703\u001B[0m         c\u001B[38;5;241m=\u001B[39mc,\n\u001B[1;32m   3704\u001B[0m         marker\u001B[38;5;241m=\u001B[39mmarker,\n\u001B[1;32m   3705\u001B[0m         cmap\u001B[38;5;241m=\u001B[39mcmap,\n\u001B[1;32m   3706\u001B[0m         norm\u001B[38;5;241m=\u001B[39mnorm,\n\u001B[1;32m   3707\u001B[0m         vmin\u001B[38;5;241m=\u001B[39mvmin,\n\u001B[1;32m   3708\u001B[0m         vmax\u001B[38;5;241m=\u001B[39mvmax,\n\u001B[1;32m   3709\u001B[0m         alpha\u001B[38;5;241m=\u001B[39malpha,\n\u001B[1;32m   3710\u001B[0m         linewidths\u001B[38;5;241m=\u001B[39mlinewidths,\n\u001B[1;32m   3711\u001B[0m         edgecolors\u001B[38;5;241m=\u001B[39medgecolors,\n\u001B[1;32m   3712\u001B[0m         plotnonfinite\u001B[38;5;241m=\u001B[39mplotnonfinite,\n\u001B[1;32m   3713\u001B[0m         \u001B[38;5;241m*\u001B[39m\u001B[38;5;241m*\u001B[39m({\u001B[38;5;124m\"\u001B[39m\u001B[38;5;124mdata\u001B[39m\u001B[38;5;124m\"\u001B[39m: data} \u001B[38;5;28;01mif\u001B[39;00m data \u001B[38;5;129;01mis\u001B[39;00m \u001B[38;5;129;01mnot\u001B[39;00m \u001B[38;5;28;01mNone\u001B[39;00m \u001B[38;5;28;01melse\u001B[39;00m {}),\n\u001B[1;32m   3714\u001B[0m         \u001B[38;5;241m*\u001B[39m\u001B[38;5;241m*\u001B[39mkwargs,\n\u001B[1;32m   3715\u001B[0m     )\n\u001B[1;32m   3716\u001B[0m     sci(__ret)\n\u001B[1;32m   3717\u001B[0m     \u001B[38;5;28;01mreturn\u001B[39;00m __ret\n",
      "File \u001B[0;32m/Users/coding/anaconda3/lib/python3.11/site-packages/matplotlib/__init__.py:1465\u001B[0m, in \u001B[0;36m_preprocess_data.<locals>.inner\u001B[0;34m(ax, data, *args, **kwargs)\u001B[0m\n\u001B[1;32m   1462\u001B[0m \u001B[38;5;129m@functools\u001B[39m\u001B[38;5;241m.\u001B[39mwraps(func)\n\u001B[1;32m   1463\u001B[0m \u001B[38;5;28;01mdef\u001B[39;00m \u001B[38;5;21minner\u001B[39m(ax, \u001B[38;5;241m*\u001B[39margs, data\u001B[38;5;241m=\u001B[39m\u001B[38;5;28;01mNone\u001B[39;00m, \u001B[38;5;241m*\u001B[39m\u001B[38;5;241m*\u001B[39mkwargs):\n\u001B[1;32m   1464\u001B[0m     \u001B[38;5;28;01mif\u001B[39;00m data \u001B[38;5;129;01mis\u001B[39;00m \u001B[38;5;28;01mNone\u001B[39;00m:\n\u001B[0;32m-> 1465\u001B[0m         \u001B[38;5;28;01mreturn\u001B[39;00m func(ax, \u001B[38;5;241m*\u001B[39m\u001B[38;5;28mmap\u001B[39m(sanitize_sequence, args), \u001B[38;5;241m*\u001B[39m\u001B[38;5;241m*\u001B[39mkwargs)\n\u001B[1;32m   1467\u001B[0m     bound \u001B[38;5;241m=\u001B[39m new_sig\u001B[38;5;241m.\u001B[39mbind(ax, \u001B[38;5;241m*\u001B[39margs, \u001B[38;5;241m*\u001B[39m\u001B[38;5;241m*\u001B[39mkwargs)\n\u001B[1;32m   1468\u001B[0m     auto_label \u001B[38;5;241m=\u001B[39m (bound\u001B[38;5;241m.\u001B[39marguments\u001B[38;5;241m.\u001B[39mget(label_namer)\n\u001B[1;32m   1469\u001B[0m                   \u001B[38;5;129;01mor\u001B[39;00m bound\u001B[38;5;241m.\u001B[39mkwargs\u001B[38;5;241m.\u001B[39mget(label_namer))\n",
      "File \u001B[0;32m/Users/coding/anaconda3/lib/python3.11/site-packages/matplotlib/axes/_axes.py:4655\u001B[0m, in \u001B[0;36mAxes.scatter\u001B[0;34m(self, x, y, s, c, marker, cmap, norm, vmin, vmax, alpha, linewidths, edgecolors, plotnonfinite, **kwargs)\u001B[0m\n\u001B[1;32m   4653\u001B[0m y \u001B[38;5;241m=\u001B[39m np\u001B[38;5;241m.\u001B[39mma\u001B[38;5;241m.\u001B[39mravel(y)\n\u001B[1;32m   4654\u001B[0m \u001B[38;5;28;01mif\u001B[39;00m x\u001B[38;5;241m.\u001B[39msize \u001B[38;5;241m!=\u001B[39m y\u001B[38;5;241m.\u001B[39msize:\n\u001B[0;32m-> 4655\u001B[0m     \u001B[38;5;28;01mraise\u001B[39;00m \u001B[38;5;167;01mValueError\u001B[39;00m(\u001B[38;5;124m\"\u001B[39m\u001B[38;5;124mx and y must be the same size\u001B[39m\u001B[38;5;124m\"\u001B[39m)\n\u001B[1;32m   4657\u001B[0m \u001B[38;5;28;01mif\u001B[39;00m s \u001B[38;5;129;01mis\u001B[39;00m \u001B[38;5;28;01mNone\u001B[39;00m:\n\u001B[1;32m   4658\u001B[0m     s \u001B[38;5;241m=\u001B[39m (\u001B[38;5;241m20\u001B[39m \u001B[38;5;28;01mif\u001B[39;00m mpl\u001B[38;5;241m.\u001B[39mrcParams[\u001B[38;5;124m'\u001B[39m\u001B[38;5;124m_internal.classic_mode\u001B[39m\u001B[38;5;124m'\u001B[39m] \u001B[38;5;28;01melse\u001B[39;00m\n\u001B[1;32m   4659\u001B[0m          mpl\u001B[38;5;241m.\u001B[39mrcParams[\u001B[38;5;124m'\u001B[39m\u001B[38;5;124mlines.markersize\u001B[39m\u001B[38;5;124m'\u001B[39m] \u001B[38;5;241m*\u001B[39m\u001B[38;5;241m*\u001B[39m \u001B[38;5;241m2.0\u001B[39m)\n",
      "\u001B[0;31mValueError\u001B[0m: x and y must be the same size"
     ]
    },
    {
     "data": {
      "text/plain": "<Figure size 1000x700 with 1 Axes>",
      "image/png": "[encoded data removed]"
     },
     "metadata": {},
     "output_type": "display_data"
    }
   ],
   "source": [
    "plot_predictions(train_data=X_train, train_labels=y_train, test_data=X_test, test_labels=y_test, predictions=y_preds)"
   ],
   "metadata": {
    "collapsed": false,
    "ExecuteTime": {
     "end_time": "2024-08-06T16:02:40.892781Z",
     "start_time": "2024-08-06T16:02:40.701823Z"
    }
   },
   "id": "485f694eb44d7869",
   "execution_count": 18
  },
  {
   "cell_type": "code",
   "outputs": [
    {
     "data": {
      "text/plain": "((1070, 6), (1070,), (268, 6), (268,))"
     },
     "execution_count": 19,
     "metadata": {},
     "output_type": "execute_result"
    }
   ],
   "source": [
    "X_train.shape, y_train.shape, X_test.shape, y_test.shape"
   ],
   "metadata": {
    "collapsed": false,
    "ExecuteTime": {
     "end_time": "2024-08-06T16:03:20.208106Z",
     "start_time": "2024-08-06T16:03:20.198034Z"
    }
   },
   "id": "21c1affe73591f66",
   "execution_count": 19
  },
  {
   "cell_type": "code",
   "outputs": [],
   "source": [
    "\n"
   ],
   "metadata": {
    "collapsed": false
   },
   "id": "c0850c3e2eff70c9"
  }
 ],
 "metadata": {
  "kernelspec": {
   "display_name": "Python 3",
   "language": "python",
   "name": "python3"
  },
  "language_info": {
   "codemirror_mode": {
    "name": "ipython",
    "version": 2
   },
   "file_extension": ".py",
   "mimetype": "text/x-python",
   "name": "python",
   "nbconvert_exporter": "python",
   "pygments_lexer": "ipython2",
   "version": "2.7.6"
  }
 },
 "nbformat": 4,
 "nbformat_minor": 5
}
